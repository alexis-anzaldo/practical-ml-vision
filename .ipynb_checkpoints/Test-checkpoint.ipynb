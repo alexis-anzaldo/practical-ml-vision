{
 "cells": [
  {
   "cell_type": "code",
   "execution_count": null,
   "id": "6d85c9c7-f21e-4561-8942-374aa645f853",
   "metadata": {},
   "outputs": [],
   "source": [
    "import os\n",
    "import cv2\n",
    "import numpy as np\n",
    "import matplotlib.pyplot as plt\n",
    "\n",
    "# Function to load and display an image\n",
    "def load_and_display_image(image_path):\n",
    "    image = cv2.imread(image_path)\n",
    "    image_rgb = cv2.cvtColor(image, cv2.COLOR_BGR2RGB)\n",
    "    \n",
    "    plt.imshow(image_rgb)\n",
    "    plt.axis('off')\n",
    "    plt.show()\n",
    "\n",
    "# Function to analyze image quality metrics\n",
    "def analyze_image_quality(image_path):\n",
    "    image = cv2.imread(image_path)\n",
    "    \n",
    "    # Calculate image quality metrics (add more as needed)\n",
    "    blur_metric = cv2.Laplacian(image, cv2.CV_64F).var()\n",
    "    brightness_metric = np.mean(image)\n",
    "    \n",
    "    return blur_metric, brightness_metric\n",
    "\n",
    "# Main EDA function\n",
    "def perform_eda(image_folder):\n",
    "    # List all image files in the folder\n",
    "    image_files = [f for f in os.listdir(image_folder) if f.endswith(('.jpg', '.jpeg', '.png'))]\n",
    "    \n",
    "    for image_file in image_files:\n",
    "        image_path = os.path.join(image_folder, image_file)\n",
    "        \n",
    "        # Load and display the image\n",
    "        load_and_display_image(image_path)\n",
    "        \n",
    "        # Analyze image quality metrics\n",
    "        blur_metric, brightness_metric = analyze_image_quality(image_path)\n",
    "        \n",
    "        # Print or log the metrics\n",
    "        print(f\"Image: {image_file}\")\n",
    "        print(f\"Blur Metric: {blur_metric}\")\n",
    "        print(f\"Brightness Metric: {brightness_metric}\")\n",
    "        print(\"\\n\" + \"=\"*30 + \"\\n\")\n",
    "\n",
    "if __name__ == \"__main__\":\n",
    "    # Replace 'your_image_folder' with the path to your image dataset\n",
    "    image_folder = 'your_image_folder'\n",
    "    \n",
    "    perform_eda(image_folder)\n"
   ]
  }
 ],
 "metadata": {
  "kernelspec": {
   "display_name": "Python 3 (ipykernel)",
   "language": "python",
   "name": "python3"
  },
  "language_info": {
   "codemirror_mode": {
    "name": "ipython",
    "version": 3
   },
   "file_extension": ".py",
   "mimetype": "text/x-python",
   "name": "python",
   "nbconvert_exporter": "python",
   "pygments_lexer": "ipython3",
   "version": "3.11.6"
  }
 },
 "nbformat": 4,
 "nbformat_minor": 5
}
